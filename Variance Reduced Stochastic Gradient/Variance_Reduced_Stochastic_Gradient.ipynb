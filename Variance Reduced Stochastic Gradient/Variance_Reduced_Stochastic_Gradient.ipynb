{
 "cells": [
  {
   "cell_type": "markdown",
   "metadata": {},
   "source": [
    "### Variance Reduced Stochastic Gradient"
   ]
  },
  {
   "cell_type": "code",
   "execution_count": 2,
   "metadata": {
    "collapsed": true
   },
   "outputs": [],
   "source": [
    "import numpy as np\n",
    "import sklearn.datasets\n",
    "import matplotlib.pyplot as plt\n",
    "from scipy.sparse import csc_matrix"
   ]
  },
  {
   "cell_type": "markdown",
   "metadata": {},
   "source": [
    "### Import dataset and reshape"
   ]
  },
  {
   "cell_type": "code",
   "execution_count": 3,
   "metadata": {
    "collapsed": true
   },
   "outputs": [],
   "source": [
    "# import dataset\n",
    "X_train, y_train = sklearn.datasets.load_svmlight_file('gisette_scale') \n",
    "X_test, y_test = sklearn.datasets.load_svmlight_file('gisette_scale.t')"
   ]
  },
  {
   "cell_type": "code",
   "execution_count": 4,
   "metadata": {
    "collapsed": true
   },
   "outputs": [],
   "source": [
    "# convert y from 1/-1 to 1/0\n",
    "y_train = np.maximum(y_train,0)\n",
    "y_test = np.maximum(y_test,0)"
   ]
  },
  {
   "cell_type": "code",
   "execution_count": 5,
   "metadata": {
    "collapsed": true
   },
   "outputs": [],
   "source": [
    "# reshape y\n",
    "y_train = np.reshape(y_train,(6000,1))\n",
    "y_test = np.reshape(y_test,(1000,1))"
   ]
  },
  {
   "cell_type": "markdown",
   "metadata": {},
   "source": [
    "### Likelihood and gradient functions"
   ]
  },
  {
   "cell_type": "code",
   "execution_count": 6,
   "metadata": {
    "collapsed": true
   },
   "outputs": [],
   "source": [
    "# function of binary negative log likelihood\n",
    "def neg_log_likelihood(x,y,w):\n",
    "    # number of observations\n",
    "    n_obs = x.shape[0]\n",
    "    # probability\n",
    "    p = 1 / (1+np.exp((-x.dot(w)).toarray()))\n",
    "    \n",
    "    # likelihood\n",
    "    R = np.log(p**y) + np.log((1-p)**(1-y))\n",
    "    \n",
    "    return np.sum(-R)/n_obs"
   ]
  },
  {
   "cell_type": "code",
   "execution_count": 7,
   "metadata": {
    "collapsed": true
   },
   "outputs": [],
   "source": [
    "# function of gradient of ginary negative log likelihood\n",
    "# return value is csc_matrix type verical vector\n",
    "def grad_neg_log_likelihood(x,y,w):\n",
    "    # number of observations\n",
    "    n_obs = x.shape[0]\n",
    "    # probability\n",
    "    p = 1 / (1+np.exp((-x.dot(w)).toarray()))\n",
    "    \n",
    "    # gradient\n",
    "    g = (csc_matrix(p-y).transpose()).dot(x) / n_obs\n",
    "    \n",
    "    return g.transpose()"
   ]
  },
  {
   "cell_type": "markdown",
   "metadata": {},
   "source": [
    "### Predict and accuracy functions"
   ]
  },
  {
   "cell_type": "code",
   "execution_count": 8,
   "metadata": {
    "collapsed": true
   },
   "outputs": [],
   "source": [
    "# function of predicting\n",
    "def predict(x,w):\n",
    "    # number of observations\n",
    "    n_obs = x.shape[0]\n",
    "    \n",
    "    # set up binary probability table\n",
    "    p = 1 / (1+np.exp((-x.dot(w)).toarray()))\n",
    "    p_table = np.hstack((1-p,p))\n",
    "    \n",
    "    # make prediction\n",
    "    max_index = np.argmax(p_table,axis=1)\n",
    "    \n",
    "    return np.reshape(max_index,(n_obs,1))\n",
    "\n",
    "# function of calculating accuracy\n",
    "def accuracy(x,y,w):\n",
    "    # number of observations\n",
    "    n_obs = x.shape[0]\n",
    "    \n",
    "    # make prediction\n",
    "    prediction = predict(x,w)\n",
    "    \n",
    "    # count incorrect prediction\n",
    "    incorrect = np.sum(np.square(prediction-y))\n",
    "    # calculate accuracy\n",
    "    acc = 1 - incorrect/n_obs\n",
    "    \n",
    "    return acc    "
   ]
  },
  {
   "cell_type": "markdown",
   "metadata": {},
   "source": [
    "### SG algorithm"
   ]
  },
  {
   "cell_type": "code",
   "execution_count": 29,
   "metadata": {
    "collapsed": true
   },
   "outputs": [],
   "source": [
    "# function stochastic gradient descent with regularization\n",
    "def stochastic_gradient_descent(x_train,y_train,x_test,y_test,loss_and_grad,init_w,alpha,n_its,acc_func,reg_lambda=10**(-3)):\n",
    "    # loss function and its gradient\n",
    "    loss = loss_and_grad[0]\n",
    "    grad_loss = loss_and_grad[1]\n",
    "    \n",
    "    # history of w, loss, and acc_test\n",
    "    w_hist = []\n",
    "    train_loss_hist = []\n",
    "    test_loss_hist = []\n",
    "    acc_test_hist = []\n",
    "    \n",
    "    # initiate w\n",
    "    w = init_w\n",
    "    # number of train observations\n",
    "    n_train = x_train.shape[0]\n",
    "    \n",
    "    # loss and acc_test\n",
    "    new_train_loss = loss(x_train,y_train,w)\n",
    "    new_test_loss = loss(x_test,y_test,w)\n",
    "    new_acc_test = acc_func(x_test,y_test,w)\n",
    "    # append history\n",
    "    w_hist.append(w)\n",
    "    train_loss_hist.append(new_train_loss)\n",
    "    test_loss_hist.append(new_test_loss)\n",
    "    acc_test_hist.append(new_acc_test)\n",
    "    \n",
    "    # index of observations\n",
    "    index = np.array(range(n_train))\n",
    "    \n",
    "    # n_its interations of descent\n",
    "    for iteration in range(n_its):\n",
    "\n",
    "        # reshuffle dataset index\n",
    "        np.random.shuffle(index)\n",
    "        \n",
    "        # for each observation\n",
    "        for i in index:\n",
    "            grad_i = grad_loss(x_train[i:i+1,:],y_train[i:i+1],w)\n",
    "            # add regularization\n",
    "            grad_i += reg_lambda * w\n",
    "            # individual gradient descent\n",
    "            w = w - alpha * grad_i\n",
    "        \n",
    "        # loss and acc_test\n",
    "        new_train_loss = loss(x_train,y_train,w)\n",
    "        new_test_loss = loss(x_test,y_test,w)\n",
    "        new_acc_test = acc_func(x_test,y_test,w)\n",
    "        \n",
    "        # append history\n",
    "        w_hist.append(w)\n",
    "        train_loss_hist.append(new_train_loss)\n",
    "        test_loss_hist.append(new_test_loss)\n",
    "        acc_test_hist.append(new_acc_test)\n",
    "        \n",
    "        print('Epoch: '+str(iteration+1))\n",
    "        print('Training loss='+str(new_train_loss))\n",
    "        \n",
    "    return w_hist, train_loss_hist, test_loss_hist, acc_test_hist "
   ]
  },
  {
   "cell_type": "markdown",
   "metadata": {},
   "source": [
    "### Training using SG:"
   ]
  },
  {
   "cell_type": "code",
   "execution_count": 32,
   "metadata": {},
   "outputs": [
    {
     "name": "stdout",
     "output_type": "stream",
     "text": [
      "Epoch: 1\n",
      "Training loss=0.10105919358090461\n",
      "Epoch: 2\n",
      "Training loss=0.05193526302249651\n",
      "Epoch: 3\n",
      "Training loss=0.023149864243370406\n",
      "Epoch: 4\n",
      "Training loss=0.012126358956397828\n",
      "Epoch: 5\n",
      "Training loss=0.019137973286411692\n",
      "Epoch: 6\n",
      "Training loss=0.00926180950721326\n",
      "Epoch: 7\n",
      "Training loss=0.008458869458734994\n",
      "Epoch: 8\n",
      "Training loss=0.002852988498055728\n",
      "Epoch: 9\n",
      "Training loss=0.012501702686231861\n",
      "Epoch: 10\n",
      "Training loss=0.0011209379362844538\n",
      "Epoch: 11\n",
      "Training loss=0.0009631607953983853\n",
      "Epoch: 12\n",
      "Training loss=0.0010977984687025792\n",
      "Epoch: 13\n",
      "Training loss=0.0009384254695628107\n",
      "Epoch: 14\n",
      "Training loss=0.0011628366258759587\n",
      "Epoch: 15\n",
      "Training loss=0.0012200890255848087\n",
      "Epoch: 16\n",
      "Training loss=0.0013831009707338693\n",
      "Epoch: 17\n",
      "Training loss=0.0012711477657764796\n",
      "Epoch: 18\n",
      "Training loss=0.0015773511577931766\n",
      "Epoch: 19\n",
      "Training loss=0.0014672685069600326\n",
      "Epoch: 20\n",
      "Training loss=0.001738723163699432\n"
     ]
    }
   ],
   "source": [
    "# SG training\n",
    "loss_and_grad = [neg_log_likelihood,grad_neg_log_likelihood]\n",
    "init_w = csc_matrix(np.zeros((5000,1)))\n",
    "w,train_l,test_l,test_acc=stochastic_gradient_descent(X_train,y_train,X_test,y_test,loss_and_grad,\n",
    "                                                      init_w,0.005,20,accuracy) "
   ]
  },
  {
   "cell_type": "markdown",
   "metadata": {},
   "source": [
    "### SG plot and final results"
   ]
  },
  {
   "cell_type": "code",
   "execution_count": 33,
   "metadata": {},
   "outputs": [
    {
     "data": {
      "image/png": "[encoded data removed]",
      "text/plain": [
       "<matplotlib.figure.Figure at 0x1afa0fbf358>"
      ]
     },
     "metadata": {},
     "output_type": "display_data"
    }
   ],
   "source": [
    "# plot SG\n",
    "epoch_list = np.linspace(1,21,21)\n",
    "plt.plot(epoch_list,train_l)\n",
    "plt.plot(epoch_list,test_l)\n",
    "plt.plot(epoch_list,test_acc)\n",
    "plt.legend(['Training loss','Test loss','Test acc'], loc='center right')\n",
    "plt.show()"
   ]
  },
  {
   "cell_type": "code",
   "execution_count": 43,
   "metadata": {},
   "outputs": [
    {
     "name": "stdout",
     "output_type": "stream",
     "text": [
      "Training loss=0.001738723163699432. Test loss=0.07443071767560058. Test acc=0.975\n"
     ]
    }
   ],
   "source": [
    "# final training loss, test loss, and test accuracy\n",
    "print('Training loss='+str(train_l[20])+'. Test loss='+str(test_l[20])+'. Test acc='+str(test_acc[20]))"
   ]
  },
  {
   "cell_type": "markdown",
   "metadata": {},
   "source": [
    "### SVRG algorithm"
   ]
  },
  {
   "cell_type": "code",
   "execution_count": 35,
   "metadata": {
    "collapsed": true
   },
   "outputs": [],
   "source": [
    "# function of stochastic variance reduced gradient\n",
    "def SVRG(x_train,y_train,x_test,y_test,loss_and_grad,init_w,alpha,j,n_its,acc_func,reg_lambda=10**(-3)):\n",
    "    # loss function and its gradient\n",
    "    loss = loss_and_grad[0]\n",
    "    grad_loss = loss_and_grad[1]\n",
    "    \n",
    "    # history of w, loss, and acc_test\n",
    "    w_hist = []\n",
    "    train_loss_hist = []\n",
    "    test_loss_hist = []\n",
    "    acc_test_hist = []\n",
    "    \n",
    "    # initiate w\n",
    "    w = init_w\n",
    "    # number of train observations\n",
    "    n_train = x_train.shape[0]\n",
    "    \n",
    "    # loss and acc_test\n",
    "    new_train_loss = loss(x_train,y_train,w)\n",
    "    new_test_loss = loss(x_test,y_test,w)\n",
    "    new_acc_test = acc_func(x_test,y_test,w)\n",
    "    # append history\n",
    "    w_hist.append(w)\n",
    "    train_loss_hist.append(new_train_loss)\n",
    "    test_loss_hist.append(new_test_loss)\n",
    "    acc_test_hist.append(new_acc_test)\n",
    "    \n",
    "    # n_its interations of descent\n",
    "    for iteration in range(n_its):\n",
    "        # calculate mu\n",
    "        mu = grad_loss(x_train,y_train,w)\n",
    "        mu += reg_lambda*w\n",
    "        \n",
    "        # w0 of this iteration\n",
    "        w_new = w\n",
    "        \n",
    "        # m interations\n",
    "        for t in range(j*n_train):\n",
    "            # randomly draw i_t and correcponding x_i and y_i\n",
    "            i_t = np.random.randint(n_train)\n",
    "            x_i = x_train[i_t:i_t+1,:]\n",
    "            y_i = y_train[i_t:i_t+1]\n",
    "            \n",
    "            # update w_new\n",
    "            w_new = w_new - alpha * (grad_loss(x_i,y_i,w_new) + reg_lambda*w_new - grad_loss(x_i,y_i,w) - reg_lambda*w + mu)\n",
    "        \n",
    "        # update w\n",
    "        w = w_new\n",
    "        \n",
    "        # loss and acc_test\n",
    "        new_train_loss = loss(x_train,y_train,w)\n",
    "        new_test_loss = loss(x_test,y_test,w)\n",
    "        new_acc_test = acc_func(x_test,y_test,w)\n",
    "        \n",
    "        # append history\n",
    "        w_hist.append(w)\n",
    "        train_loss_hist.append(new_train_loss)\n",
    "        test_loss_hist.append(new_test_loss)\n",
    "        acc_test_hist.append(new_acc_test)\n",
    "        \n",
    "        print('Epoch: '+str(iteration+1))\n",
    "        print('Training loss='+str(new_train_loss))\n",
    "    \n",
    "    return w_hist, train_loss_hist, test_loss_hist, acc_test_hist "
   ]
  },
  {
   "cell_type": "markdown",
   "metadata": {},
   "source": [
    "### SVRG training:"
   ]
  },
  {
   "cell_type": "code",
   "execution_count": 38,
   "metadata": {},
   "outputs": [
    {
     "name": "stderr",
     "output_type": "stream",
     "text": [
      "D:\\Tools\\Anaconda\\Anaconda3\\lib\\site-packages\\ipykernel_launcher.py:9: RuntimeWarning: divide by zero encountered in log\n",
      "  if __name__ == '__main__':\n"
     ]
    },
    {
     "name": "stdout",
     "output_type": "stream",
     "text": [
      "Epoch: 1\n",
      "Training loss=inf\n",
      "Epoch: 2\n",
      "Training loss=0.6662199659877608\n",
      "Epoch: 3\n",
      "Training loss=0.19138430246972268\n",
      "Epoch: 4\n",
      "Training loss=0.08793982533507709\n",
      "Epoch: 5\n",
      "Training loss=0.018196241390638843\n",
      "Epoch: 6\n",
      "Training loss=0.01721855072720028\n",
      "Epoch: 7\n",
      "Training loss=0.003321445615477535\n",
      "Epoch: 8\n",
      "Training loss=0.0012647310206675933\n",
      "Epoch: 9\n",
      "Training loss=0.0005481729233211625\n",
      "Epoch: 10\n",
      "Training loss=0.0004912797931621917\n",
      "Epoch: 11\n",
      "Training loss=0.0005074773803575043\n",
      "Epoch: 12\n",
      "Training loss=0.0005476400466654624\n",
      "Epoch: 13\n",
      "Training loss=0.0006049069926337678\n",
      "Epoch: 14\n",
      "Training loss=0.0006765784818675063\n",
      "Epoch: 15\n",
      "Training loss=0.0007622202368480246\n",
      "Epoch: 16\n",
      "Training loss=0.0008630180717429408\n",
      "Epoch: 17\n",
      "Training loss=0.0009792989613813456\n",
      "Epoch: 18\n",
      "Training loss=0.001114315273472786\n",
      "Epoch: 19\n",
      "Training loss=0.0012620844573796918\n",
      "Epoch: 20\n",
      "Training loss=0.001422980586390406\n"
     ]
    }
   ],
   "source": [
    "# SVRG training \n",
    "loss_and_grad = [neg_log_likelihood,grad_neg_log_likelihood]\n",
    "init_w = csc_matrix(np.zeros((5000,1)))\n",
    "w_1,train_l_1,test_l_1,test_acc_1=SVRG(X_train,y_train,X_test,y_test,loss_and_grad,\n",
    "                                       init_w,0.004,2,20,accuracy)"
   ]
  },
  {
   "cell_type": "code",
   "execution_count": 39,
   "metadata": {},
   "outputs": [
    {
     "data": {
      "image/png": "[encoded data removed]",
      "text/plain": [
       "<matplotlib.figure.Figure at 0x1afe10197f0>"
      ]
     },
     "metadata": {},
     "output_type": "display_data"
    }
   ],
   "source": [
    "# plot SVRG\n",
    "epoch_list = np.linspace(1,21,21)\n",
    "plt.plot(epoch_list,train_l_1)\n",
    "plt.plot(epoch_list,test_l_1)\n",
    "plt.plot(epoch_list,test_acc_1)\n",
    "plt.legend(['Training loss','Test loss','Test acc'], loc='center right')\n",
    "plt.show()"
   ]
  },
  {
   "cell_type": "code",
   "execution_count": 44,
   "metadata": {},
   "outputs": [
    {
     "name": "stdout",
     "output_type": "stream",
     "text": [
      "Training loss=0.001422980586390406. Test loss=0.08971410535612186. Test acc=0.976\n"
     ]
    }
   ],
   "source": [
    "# final training loss, test loss, and test accuracy\n",
    "print('Training loss='+str(train_l_1[20])+'. Test loss='+str(test_l_1[20])+'. Test acc='+str(test_acc_1[20]))"
   ]
  },
  {
   "cell_type": "markdown",
   "metadata": {},
   "source": [
    "### SAGA algorithm"
   ]
  },
  {
   "cell_type": "code",
   "execution_count": 9,
   "metadata": {
    "collapsed": true
   },
   "outputs": [],
   "source": [
    "# function of SAGA \n",
    "def SAGA(x_train,y_train,x_test,y_test,loss_and_grad,init_w,alpha,n_its,acc_func,reg_lambda=10**(-3)):\n",
    "    # loss function and its gradient\n",
    "    loss = loss_and_grad[0]\n",
    "    grad_loss = loss_and_grad[1]\n",
    "    \n",
    "    # history of w, loss, and acc_test\n",
    "    w_hist = []\n",
    "    train_loss_hist = []\n",
    "    test_loss_hist = []\n",
    "    acc_test_hist = []\n",
    "    \n",
    "    # initiate w\n",
    "    w = init_w\n",
    "    # number of train observations\n",
    "    n_train = x_train.shape[0]\n",
    "    # number of features\n",
    "    n_feature = x_train.shape[1]\n",
    "    # initiate mu\n",
    "    mu = csc_matrix((n_feature,1))\n",
    "    # initiate grad_list\n",
    "    grad_list = []\n",
    "    \n",
    "    # loss and acc_test\n",
    "    new_train_loss = loss(x_train,y_train,w)\n",
    "    new_test_loss = loss(x_test,y_test,w)\n",
    "    new_acc_test = acc_func(x_test,y_test,w)\n",
    "    # append history\n",
    "    w_hist.append(w)\n",
    "    train_loss_hist.append(new_train_loss)\n",
    "    test_loss_hist.append(new_test_loss)\n",
    "    acc_test_hist.append(new_acc_test)\n",
    "    \n",
    "    # epoch 1 of initiating\n",
    "    for i in range(n_train):\n",
    "        x_i = x_train[i:i+1,:]\n",
    "        y_i = y_train[i:i+1]\n",
    "        \n",
    "        # calculate new gradient\n",
    "        grad_new = grad_loss(x_i,y_i,w) + reg_lambda*w\n",
    "        # update grad_list\n",
    "        grad_list.append(grad_new)\n",
    "        \n",
    "        # update w_new and w_old\n",
    "        w = w - alpha * (grad_new + mu)\n",
    "        # update mu\n",
    "        mu = mu.multiply(i/(i+1)) + grad_new.multiply(1/(i+1))\n",
    "    \n",
    "    # loss and acc_test\n",
    "    new_train_loss = loss(x_train,y_train,w)\n",
    "    new_test_loss = loss(x_test,y_test,w)\n",
    "    new_acc_test = acc_func(x_test,y_test,w)\n",
    "    # append history\n",
    "    w_hist.append(w)\n",
    "    train_loss_hist.append(new_train_loss)\n",
    "    test_loss_hist.append(new_test_loss)\n",
    "    acc_test_hist.append(new_acc_test)\n",
    "    \n",
    "    print('Epoch: 1')\n",
    "    print('Training loss='+str(new_train_loss))\n",
    "    \n",
    "    # index of observations\n",
    "    index = np.array(range(n_train))\n",
    "    \n",
    "    # n_its interations of descent\n",
    "    for iteration in range(1,n_its):\n",
    "        # reshuffle dataset index\n",
    "        np.random.shuffle(index)\n",
    "        \n",
    "        # for each observation\n",
    "        for i in index:\n",
    "        \n",
    "            x_i = x_train[i:i+1,:]\n",
    "            y_i = y_train[i:i+1]\n",
    "        \n",
    "            # calculate new gradient\n",
    "            grad_new = grad_loss(x_i,y_i,w) + reg_lambda*w\n",
    "            # get old gradient from grad_list\n",
    "            grad_old = grad_list[i]\n",
    "        \n",
    "            # update w_new and w_old\n",
    "            w = w - alpha * (grad_new - grad_old + mu)\n",
    "            # update grad_list\n",
    "            grad_list[i] = grad_new\n",
    "            # update mu\n",
    "            mu = mu - grad_old.multiply(1/n_train) + grad_new.multiply(1/n_train)\n",
    "        \n",
    "        # loss and acc_test\n",
    "        new_train_loss = loss(x_train,y_train,w)\n",
    "        new_test_loss = loss(x_test,y_test,w)\n",
    "        new_acc_test = acc_func(x_test,y_test,w)\n",
    "        \n",
    "        # append history\n",
    "        w_hist.append(w)\n",
    "        train_loss_hist.append(new_train_loss)\n",
    "        test_loss_hist.append(new_test_loss)\n",
    "        acc_test_hist.append(new_acc_test)\n",
    "        \n",
    "        print('Epoch: '+str(iteration+1))\n",
    "        print('Training loss='+str(new_train_loss))\n",
    "    \n",
    "    return w_hist, train_loss_hist, test_loss_hist, acc_test_hist "
   ]
  },
  {
   "cell_type": "markdown",
   "metadata": {},
   "source": [
    "### SAGA training"
   ]
  },
  {
   "cell_type": "code",
   "execution_count": 27,
   "metadata": {},
   "outputs": [
    {
     "name": "stdout",
     "output_type": "stream",
     "text": [
      "Epoch: 1\n",
      "Training loss=0.06844510799932592\n",
      "Epoch: 2\n",
      "Training loss=0.07422097559093568\n",
      "Epoch: 3\n",
      "Training loss=0.04625845098428207\n",
      "Epoch: 4\n",
      "Training loss=0.034076833105089264\n",
      "Epoch: 5\n",
      "Training loss=0.02086607680464035\n",
      "Epoch: 6\n",
      "Training loss=0.014824849910143285\n",
      "Epoch: 7\n",
      "Training loss=0.10955238362380006\n",
      "Epoch: 8\n",
      "Training loss=0.015653755332982543\n",
      "Epoch: 9\n",
      "Training loss=0.013168913209434953\n",
      "Epoch: 10\n",
      "Training loss=0.01094920356394952\n",
      "Epoch: 11\n",
      "Training loss=0.005875343543683862\n",
      "Epoch: 12\n",
      "Training loss=0.005135533586951102\n",
      "Epoch: 13\n",
      "Training loss=0.004258869347254949\n",
      "Epoch: 14\n",
      "Training loss=0.004583942250388713\n",
      "Epoch: 15\n",
      "Training loss=0.00411664120290573\n",
      "Epoch: 16\n",
      "Training loss=0.0038819334400500647\n",
      "Epoch: 17\n",
      "Training loss=0.003609917640930541\n",
      "Epoch: 18\n",
      "Training loss=0.0035887296236597303\n",
      "Epoch: 19\n",
      "Training loss=0.0035869987996390855\n",
      "Epoch: 20\n",
      "Training loss=0.003456206027750404\n"
     ]
    }
   ],
   "source": [
    "loss_and_grad = [neg_log_likelihood,grad_neg_log_likelihood]\n",
    "init_w = csc_matrix(np.zeros((5000,1)))\n",
    "w_2,train_l_2,test_l_2,test_acc_2=SAGA(X_train,y_train,X_test,y_test,loss_and_grad,init_w,0.002,20,accuracy)"
   ]
  },
  {
   "cell_type": "code",
   "execution_count": 28,
   "metadata": {},
   "outputs": [
    {
     "data": {
      "image/png": "[encoded data removed]",
      "text/plain": [
       "<matplotlib.figure.Figure at 0x1af8d975668>"
      ]
     },
     "metadata": {},
     "output_type": "display_data"
    }
   ],
   "source": [
    "# plot SAGA\n",
    "epoch_list = np.linspace(1,21,21)\n",
    "plt.plot(epoch_list,train_l_2)\n",
    "plt.plot(epoch_list,test_l_2)\n",
    "plt.plot(epoch_list,test_acc_2)\n",
    "plt.legend(['Training loss','Test loss','Test acc'], loc='center right')\n",
    "plt.show()"
   ]
  },
  {
   "cell_type": "code",
   "execution_count": 45,
   "metadata": {},
   "outputs": [
    {
     "name": "stdout",
     "output_type": "stream",
     "text": [
      "Training loss=0.003456206027750404. Test loss=0.06990794268880193. Test acc=0.974\n"
     ]
    }
   ],
   "source": [
    "# final training loss, test loss, and test accuracy\n",
    "print('Training loss='+str(train_l_2[20])+'. Test loss='+str(test_l_2[20])+'. Test acc='+str(test_acc_2[20]))"
   ]
  },
  {
   "cell_type": "markdown",
   "metadata": {},
   "source": [
    "### Compare results and plots"
   ]
  },
  {
   "cell_type": "markdown",
   "metadata": {},
   "source": [
    "For SG:\n",
    "\n",
    "Training loss=0.001738723163699432. Test loss=0.07443071767560058. Test acc=0.975\n",
    "\n",
    "For SVRG:\n",
    "\n",
    "Training loss=0.001422980586390406. Test loss=0.08971410535612186. Test acc=0.976\n",
    "\n",
    "For SAGA:\n",
    "\n",
    "Training loss=0.003456206027750404. Test loss=0.06990794268880193. Test acc=0.974"
   ]
  },
  {
   "cell_type": "code",
   "execution_count": 40,
   "metadata": {},
   "outputs": [
    {
     "data": {
      "image/png": "[encoded data removed]",
      "text/plain": [
       "<matplotlib.figure.Figure at 0x1af8e37ab38>"
      ]
     },
     "metadata": {},
     "output_type": "display_data"
    }
   ],
   "source": [
    "# plot training loss\n",
    "epoch_list = np.linspace(1,21,21)\n",
    "plt.plot(epoch_list,train_l)\n",
    "plt.plot(epoch_list,train_l_1)\n",
    "plt.plot(epoch_list,train_l_2)\n",
    "plt.legend(['SG','SVGR','SAGA'], loc='center right')\n",
    "plt.show()"
   ]
  },
  {
   "cell_type": "code",
   "execution_count": 41,
   "metadata": {},
   "outputs": [
    {
     "data": {
      "image/png": "[encoded data removed]",
      "text/plain": [
       "<matplotlib.figure.Figure at 0x1aff30b8748>"
      ]
     },
     "metadata": {},
     "output_type": "display_data"
    }
   ],
   "source": [
    "# plot test loss\n",
    "epoch_list = np.linspace(1,21,21)\n",
    "plt.plot(epoch_list,test_l)\n",
    "plt.plot(epoch_list,test_l_1)\n",
    "plt.plot(epoch_list,test_l_2)\n",
    "plt.legend(['SG','SVGR','SAGA'], loc='center right')\n",
    "plt.show()"
   ]
  },
  {
   "cell_type": "code",
   "execution_count": 42,
   "metadata": {},
   "outputs": [
    {
     "data": {
      "image/png": "[encoded data removed]",
      "text/plain": [
       "<matplotlib.figure.Figure at 0x1af8e3999b0>"
      ]
     },
     "metadata": {},
     "output_type": "display_data"
    }
   ],
   "source": [
    "# plot test loss\n",
    "epoch_list = np.linspace(1,21,21)\n",
    "plt.plot(epoch_list,test_acc)\n",
    "plt.plot(epoch_list,test_acc_1)\n",
    "plt.plot(epoch_list,test_acc_2)\n",
    "plt.legend(['SG','SVGR','SAGA'], loc='center right')\n",
    "plt.show()"
   ]
  }
 ],
 "metadata": {
  "kernelspec": {
   "display_name": "Python 3",
   "language": "python",
   "name": "python3"
  },
  "language_info": {
   "codemirror_mode": {
    "name": "ipython",
    "version": 3
   },
   "file_extension": ".py",
   "mimetype": "text/x-python",
   "name": "python",
   "nbconvert_exporter": "python",
   "pygments_lexer": "ipython3",
   "version": "3.6.5"
  }
 },
 "nbformat": 4,
 "nbformat_minor": 2
}
