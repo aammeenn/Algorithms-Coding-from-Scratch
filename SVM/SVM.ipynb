{
 "cells": [
  {
   "cell_type": "markdown",
   "metadata": {},
   "source": [
    "### Support Vector Machine"
   ]
  },
  {
   "cell_type": "code",
   "execution_count": 1,
   "metadata": {
    "collapsed": true
   },
   "outputs": [],
   "source": [
    "import numpy as np\n",
    "import scipy.io\n",
    "import cvxopt\n",
    "import cvxopt.solvers\n",
    "import matplotlib.pyplot as plt"
   ]
  },
  {
   "cell_type": "code",
   "execution_count": 2,
   "metadata": {
    "collapsed": true
   },
   "outputs": [],
   "source": [
    "Syn1 = scipy.io.loadmat('synthetic1')\n",
    "Syn2 = scipy.io.loadmat('synthetic2')"
   ]
  },
  {
   "cell_type": "code",
   "execution_count": 3,
   "metadata": {
    "collapsed": true
   },
   "outputs": [],
   "source": [
    "X_1 = Syn1['X']\n",
    "X_2 = Syn2['X']\n",
    "y_1 = Syn1['y']\n",
    "y_2 = Syn2['y']"
   ]
  },
  {
   "cell_type": "code",
   "execution_count": 4,
   "metadata": {
    "collapsed": true
   },
   "outputs": [],
   "source": [
    "# functions of kernels\n",
    "# linear kernel\n",
    "def linear_kernel(x1,x2):\n",
    "    return np.dot(x1,x2)\n",
    "\n",
    "# gaussian kernel\n",
    "def gaussian_kernel(x1,x2,sigma):\n",
    "    return np.exp(-(np.linalg.norm(x1-x2))**2 / (2*(sigma**2)))"
   ]
  },
  {
   "cell_type": "code",
   "execution_count": 5,
   "metadata": {
    "collapsed": true
   },
   "outputs": [],
   "source": [
    "# function of getting kernel result\n",
    "def kernel_result(x1,x2,kernel,kernel_par=0):\n",
    "    if kernel==gaussian_kernel:\n",
    "        return kernel(x1,x2,kernel_par)\n",
    "    else:\n",
    "        return kernel(x1,x2)"
   ]
  },
  {
   "cell_type": "code",
   "execution_count": 6,
   "metadata": {
    "collapsed": true
   },
   "outputs": [],
   "source": [
    "# function of training SVM\n",
    "def svm_train(X,y,kernel_func,C,kernel_par=0):\n",
    "    # number of observations and features\n",
    "    n_obs,n_feas = np.shape(X)\n",
    "    \n",
    "    # set kernel function\n",
    "    kernel = kernel_func\n",
    "    sigma = kernel_par\n",
    "    \n",
    "    # compute kernel matrix of K(x_i,x_j)\n",
    "    K = np.zeros((n_obs,n_obs))\n",
    "    for i in range(n_obs):\n",
    "        for j in range(n_obs):\n",
    "            K[i,j] = kernel_result(X[i],X[j],kernel,sigma)\n",
    "    \n",
    "    # calculate matrices and vectors for cvxopt.qp\n",
    "    P = cvxopt.matrix(np.outer(y,y) * K)\n",
    "    q = cvxopt.matrix(np.ones(n_obs)*(-1))\n",
    "    G_1 = np.identity(n_obs)*(-1)\n",
    "    G_2 = np.identity(n_obs)\n",
    "    G = cvxopt.matrix(np.vstack((G_1,G_2)))\n",
    "    h_1 = np.zeros(n_obs)\n",
    "    h_2 = np.ones(n_obs) * C\n",
    "    h = cvxopt.matrix(np.hstack((h_1,h_2)))\n",
    "    A = cvxopt.matrix(np.double(y),(1,n_obs))\n",
    "    b = cvxopt.matrix(0.0)\n",
    "    \n",
    "    # solve the optimization\n",
    "    solve_qp = cvxopt.solvers.qp(P, q, G, h, A, b)\n",
    "    # obtain alpha vector\n",
    "    alpha = np.array(solve_qp['x'])\n",
    "    # index of support vectors (with alpha > 0)\n",
    "    sv_index = np.where(alpha>1e-5)[0]\n",
    "    # number of support vectors\n",
    "    n_sv = np.shape(sv_index)[0]\n",
    "    # alpha, x and y of support vectors\n",
    "    alpha_sv = alpha[sv_index]\n",
    "    X_sv = X[sv_index,:]\n",
    "    y_sv = y[sv_index]\n",
    "    \n",
    "    print(np.shape(alpha_sv))\n",
    "    \n",
    "    # calculate w by support vectors\n",
    "    w = np.dot(alpha_sv.T,(y_sv*X_sv))\n",
    "    \n",
    "    # calculate b by support vectors\n",
    "    b = 0\n",
    "    for i in range(n_sv):\n",
    "        b += y_sv[i,0]\n",
    "        b -= np.sum(alpha_sv*y_sv*K[sv_index[i],sv_index])\n",
    "    b = b / n_sv\n",
    "    \n",
    "    # list of result\n",
    "    model = [alpha_sv,w,b,X_sv,y_sv,kernel,sigma]\n",
    "    \n",
    "    return model"
   ]
  },
  {
   "cell_type": "code",
   "execution_count": 7,
   "metadata": {
    "collapsed": true
   },
   "outputs": [],
   "source": [
    "# function of predicting test set (without taking sign)\n",
    "def svm_predict(model,X_test):\n",
    "    # number of test observations\n",
    "    n_test = np.shape(X_test)[0]\n",
    "    \n",
    "    # type of kernel and parameter\n",
    "    kernel = model[5]\n",
    "    sigma = model[6]\n",
    "    \n",
    "    # if linear kernel, use w*x+b\n",
    "    if kernel==linear_kernel:\n",
    "        w = model[1]\n",
    "        b = model[2]\n",
    "        #pred = np.sign((np.dot(w,X_test.T)+b).T)\n",
    "        p = (np.dot(w,X_test.T)+b).T\n",
    "    # else use general form\n",
    "    else:\n",
    "        alpha_sv = model[0]\n",
    "        b = model[2]\n",
    "        X_sv = model[3]\n",
    "        y_sv = model[4]\n",
    "        \n",
    "        # number of support vectors\n",
    "        n_sv = np.shape(y_sv)[0]\n",
    "        # initiate prediction\n",
    "        p = np.zeros(n_test)\n",
    "        \n",
    "        # for each test observation compute general form\n",
    "        for i in range(n_test):\n",
    "            p_i = 0\n",
    "            X_i = X_test[i:i+1,:]\n",
    "            # for each support vector\n",
    "            for j in range(n_sv):\n",
    "                p_i += alpha_sv[j] * y_sv[j] * kernel_result(X_i,X_sv[j],kernel,sigma)\n",
    "            \n",
    "            p[i] = p_i\n",
    "        \n",
    "        # add bias\n",
    "        p += b\n",
    "        # take sign and convert form\n",
    "        #pred = np.sign(p)\n",
    "        #pred = np.matrix(pred).T\n",
    "        p = np.matrix(p).T\n",
    "    \n",
    "    return p"
   ]
  },
  {
   "cell_type": "code",
   "execution_count": 8,
   "metadata": {
    "collapsed": true
   },
   "outputs": [],
   "source": [
    "# function of predicting test set (taking sign)\n",
    "def svm_predict_sign(model,X_test):\n",
    "    p = svm_predict(model,X_test)\n",
    "    pred = np.sign(p)\n",
    "    \n",
    "    return pred"
   ]
  },
  {
   "cell_type": "code",
   "execution_count": 9,
   "metadata": {
    "collapsed": true
   },
   "outputs": [],
   "source": [
    "# function of accuracy\n",
    "def svm_accuracy(model,X_test,y_test):\n",
    "    y_pred = svm_predict_sign(model,X_test)\n",
    "    \n",
    "    # number of correct predictions\n",
    "    n_correct = np.sum(y_test==y_pred)\n",
    "    # number of test observations\n",
    "    n_test = np.shape(y_test)[0]\n",
    "    \n",
    "    return n_correct/n_test"
   ]
  },
  {
   "cell_type": "code",
   "execution_count": 10,
   "metadata": {
    "collapsed": true
   },
   "outputs": [],
   "source": [
    "# function of cross validation\n",
    "# use 5-fold CV\n",
    "def cross_validation(X,y,n_obs,kernel,C,sigma=0):\n",
    "    # index of 5 folds\n",
    "    indices = np.arange(n_obs)\n",
    "    # initiate accuracy\n",
    "    acc = 0\n",
    "    \n",
    "    # construct training and validation sets\n",
    "    # do cross validation\n",
    "    for i in range(5):\n",
    "        # validation set i\n",
    "        val_ind = np.r_[i:n_obs:5]\n",
    "        train_ind = np.where(indices%5!=i)[0]\n",
    "        X_val = X[val_ind,:]\n",
    "        X_train = X[train_ind,:]\n",
    "        y_val = y[val_ind,:]\n",
    "        y_train = y[train_ind,:]\n",
    "        \n",
    "        # train model\n",
    "        model = svm_train(X_train,y_train,kernel,C,sigma)\n",
    "        acc_i = svm_accuracy(model,X_val,y_val)\n",
    "        \n",
    "        acc += acc_i/5\n",
    "    \n",
    "    return acc"
   ]
  },
  {
   "cell_type": "code",
   "execution_count": 11,
   "metadata": {},
   "outputs": [
    {
     "name": "stdout",
     "output_type": "stream",
     "text": [
      "     pcost       dcost       gap    pres   dres\n",
      " 0: -8.7738e+01 -3.2918e+01  7e+02  2e+01  3e-15\n",
      " 1: -1.2649e+01 -3.1634e+01  2e+01  7e-15  2e-15\n",
      " 2: -1.4770e+01 -1.6094e+01  1e+00  2e-15  6e-16\n",
      " 3: -1.5558e+01 -1.5721e+01  2e-01  7e-16  5e-16\n",
      " 4: -1.5641e+01 -1.5666e+01  3e-02  6e-16  5e-16\n",
      " 5: -1.5652e+01 -1.5663e+01  1e-02  4e-15  5e-16\n",
      " 6: -1.5658e+01 -1.5661e+01  3e-03  3e-15  5e-16\n",
      " 7: -1.5659e+01 -1.5660e+01  3e-05  1e-15  5e-16\n",
      " 8: -1.5660e+01 -1.5660e+01  3e-07  7e-16  6e-16\n",
      "Optimal solution found.\n",
      "(160, 1)\n",
      "     pcost       dcost       gap    pres   dres\n",
      " 0: -8.6660e+01 -3.4218e+01  8e+02  2e+01  2e-15\n",
      " 1: -1.2573e+01 -3.2890e+01  2e+01  1e-01  2e-15\n",
      " 2: -1.3971e+01 -1.5832e+01  2e+00  8e-03  5e-16\n",
      " 3: -1.4641e+01 -1.5210e+01  6e-01  2e-03  4e-16\n",
      " 4: -1.4726e+01 -1.5198e+01  5e-01  2e-03  4e-16\n",
      " 5: -1.4851e+01 -1.5156e+01  3e-01  4e-04  3e-16\n",
      " 6: -1.4970e+01 -1.5055e+01  9e-02  9e-05  4e-16\n",
      " 7: -1.5003e+01 -1.5024e+01  2e-02  2e-05  5e-16\n",
      " 8: -1.5013e+01 -1.5015e+01  3e-03  2e-06  5e-16\n",
      " 9: -1.5014e+01 -1.5014e+01  4e-05  3e-08  5e-16\n",
      "10: -1.5014e+01 -1.5014e+01  4e-07  3e-10  6e-16\n",
      "Optimal solution found.\n",
      "(154, 1)\n",
      "     pcost       dcost       gap    pres   dres\n",
      " 0: -8.7210e+01 -3.3609e+01  7e+02  2e+01  3e-15\n",
      " 1: -1.2518e+01 -3.2300e+01  2e+01  2e-02  2e-15\n",
      " 2: -1.4370e+01 -1.5954e+01  2e+00  2e-03  6e-16\n",
      " 3: -1.4980e+01 -1.5417e+01  4e-01  4e-04  4e-16\n",
      " 4: -1.5104e+01 -1.5383e+01  3e-01  2e-04  4e-16\n",
      " 5: -1.5147e+01 -1.5364e+01  2e-01  1e-04  4e-16\n",
      " 6: -1.5228e+01 -1.5310e+01  8e-02  4e-06  6e-16\n",
      " 7: -1.5251e+01 -1.5282e+01  3e-02  5e-07  5e-16\n",
      " 8: -1.5264e+01 -1.5268e+01  4e-03  3e-08  6e-16\n",
      " 9: -1.5266e+01 -1.5266e+01  9e-05  3e-10  7e-16\n",
      "10: -1.5266e+01 -1.5266e+01  9e-07  3e-12  6e-16\n",
      "Optimal solution found.\n",
      "(156, 1)\n",
      "     pcost       dcost       gap    pres   dres\n",
      " 0: -8.7708e+01 -3.3054e+01  7e+02  2e+01  2e-15\n",
      " 1: -1.2623e+01 -3.1767e+01  2e+01  1e-14  2e-15\n",
      " 2: -1.4748e+01 -1.6094e+01  1e+00  1e-15  6e-16\n",
      " 3: -1.5591e+01 -1.5737e+01  1e-01  1e-15  5e-16\n",
      " 4: -1.5658e+01 -1.5697e+01  4e-02  6e-16  4e-16\n",
      " 5: -1.5673e+01 -1.5688e+01  1e-02  1e-15  5e-16\n",
      " 6: -1.5678e+01 -1.5687e+01  9e-03  2e-15  4e-16\n",
      " 7: -1.5684e+01 -1.5684e+01  4e-04  1e-15  6e-16\n",
      " 8: -1.5684e+01 -1.5684e+01  4e-06  2e-16  6e-16\n",
      "Optimal solution found.\n",
      "(160, 1)\n",
      "     pcost       dcost       gap    pres   dres\n",
      " 0: -8.7318e+01 -3.3538e+01  7e+02  2e+01  3e-15\n",
      " 1: -1.2505e+01 -3.2232e+01  2e+01  9e-03  2e-15\n",
      " 2: -1.4473e+01 -1.5997e+01  2e+00  7e-04  6e-16\n",
      " 3: -1.5164e+01 -1.5486e+01  3e-01  1e-04  4e-16\n",
      " 4: -1.5267e+01 -1.5455e+01  2e-01  4e-05  4e-16\n",
      " 5: -1.5313e+01 -1.5438e+01  1e-01  2e-05  4e-16\n",
      " 6: -1.5363e+01 -1.5404e+01  4e-02  1e-06  5e-16\n",
      " 7: -1.5370e+01 -1.5396e+01  3e-02  6e-07  4e-16\n",
      " 8: -1.5381e+01 -1.5383e+01  2e-03  6e-09  5e-16\n",
      " 9: -1.5382e+01 -1.5382e+01  3e-05  4e-11  5e-16\n",
      "10: -1.5382e+01 -1.5382e+01  3e-07  4e-13  6e-16\n",
      "Optimal solution found.\n",
      "(158, 1)\n"
     ]
    },
    {
     "data": {
      "text/plain": [
       "0.52"
      ]
     },
     "execution_count": 11,
     "metadata": {},
     "output_type": "execute_result"
    }
   ],
   "source": [
    "# Dataset 1 Cross Validation with linear kernel\n",
    "n_1 = np.shape(X_1)[0]\n",
    "C_1_linear = 0.1\n",
    "acc_1_linear = cross_validation(X_1,y_1,n_1,linear_kernel,C_1_linear)\n",
    "acc_1_linear"
   ]
  },
  {
   "cell_type": "code",
   "execution_count": 12,
   "metadata": {},
   "outputs": [
    {
     "name": "stdout",
     "output_type": "stream",
     "text": [
      "     pcost       dcost       gap    pres   dres\n",
      " 0: -1.0946e+02 -4.1624e+01  9e+02  2e+01  3e-15\n",
      " 1: -1.5697e+01 -4.0003e+01  2e+01  6e-15  3e-15\n",
      " 2: -1.8290e+01 -2.0051e+01  2e+00  1e-15  7e-16\n",
      " 3: -1.9098e+01 -1.9524e+01  4e-01  1e-15  5e-16\n",
      " 4: -1.9149e+01 -1.9525e+01  4e-01  1e-15  4e-16\n",
      " 5: -1.9226e+01 -1.9502e+01  3e-01  2e-15  4e-16\n",
      " 6: -1.9304e+01 -1.9460e+01  2e-01  6e-16  4e-16\n",
      " 7: -1.9351e+01 -1.9421e+01  7e-02  2e-15  5e-16\n",
      " 8: -1.9383e+01 -1.9387e+01  4e-03  2e-15  6e-16\n",
      " 9: -1.9385e+01 -1.9385e+01  5e-05  3e-15  7e-16\n",
      "10: -1.9385e+01 -1.9385e+01  6e-07  2e-15  6e-16\n",
      "Optimal solution found.\n",
      "(198, 1)\n"
     ]
    },
    {
     "data": {
      "text/plain": [
       "0.535"
      ]
     },
     "execution_count": 12,
     "metadata": {},
     "output_type": "execute_result"
    }
   ],
   "source": [
    "# Dataset 1 training with linear kernel\n",
    "model_1_linear = svm_train(X_1,y_1,linear_kernel,0.1)\n",
    "acc_1_linear = svm_accuracy(model_1_linear,X_1,y_1)\n",
    "acc_1_linear"
   ]
  },
  {
   "cell_type": "code",
   "execution_count": 13,
   "metadata": {
    "scrolled": true
   },
   "outputs": [
    {
     "name": "stdout",
     "output_type": "stream",
     "text": [
      "     pcost       dcost       gap    pres   dres\n",
      " 0: -1.7593e+02 -6.4652e+01  1e+03  2e+01  2e-15\n",
      " 1: -2.5580e+01 -6.2122e+01  4e+01  2e-14  3e-15\n",
      " 2: -2.9963e+01 -3.2361e+01  2e+00  2e-15  8e-16\n",
      " 3: -3.1861e+01 -3.1963e+01  1e-01  6e-15  7e-16\n",
      " 4: -3.1944e+01 -3.1945e+01  1e-03  1e-15  7e-16\n",
      " 5: -3.1945e+01 -3.1945e+01  1e-05  4e-15  7e-16\n",
      "Optimal solution found.\n",
      "(320, 1)\n",
      "     pcost       dcost       gap    pres   dres\n",
      " 0: -1.7553e+02 -6.5732e+01  1e+03  2e+01  2e-15\n",
      " 1: -2.5332e+01 -6.3169e+01  4e+01  3e-15  2e-15\n",
      " 2: -2.9642e+01 -3.2281e+01  3e+00  4e-15  8e-16\n",
      " 3: -3.1538e+01 -3.1707e+01  2e-01  2e-15  7e-16\n",
      " 4: -3.1667e+01 -3.1672e+01  5e-03  4e-15  6e-16\n",
      " 5: -3.1671e+01 -3.1671e+01  5e-05  1e-15  7e-16\n",
      " 6: -3.1671e+01 -3.1671e+01  5e-07  9e-15  7e-16\n",
      "Optimal solution found.\n",
      "(320, 1)\n",
      "     pcost       dcost       gap    pres   dres\n",
      " 0: -1.7600e+02 -6.4149e+01  1e+03  2e+01  2e-15\n",
      " 1: -2.5675e+01 -6.1632e+01  4e+01  2e-14  2e-15\n",
      " 2: -3.0068e+01 -3.2318e+01  2e+00  3e-15  8e-16\n",
      " 3: -3.1963e+01 -3.2005e+01  4e-02  7e-15  7e-16\n",
      " 4: -3.1997e+01 -3.1998e+01  4e-04  1e-14  7e-16\n",
      " 5: -3.1998e+01 -3.1998e+01  4e-06  3e-15  7e-16\n",
      "Optimal solution found.\n",
      "(320, 1)\n",
      "     pcost       dcost       gap    pres   dres\n",
      " 0: -1.7587e+02 -6.4916e+01  1e+03  2e+01  2e-15\n",
      " 1: -2.5526e+01 -6.2378e+01  4e+01  3e-15  2e-15\n",
      " 2: -2.9900e+01 -3.2370e+01  2e+00  8e-15  8e-16\n",
      " 3: -3.1803e+01 -3.1928e+01  1e-01  8e-15  7e-16\n",
      " 4: -3.1904e+01 -3.1906e+01  1e-03  8e-15  7e-16\n",
      " 5: -3.1905e+01 -3.1905e+01  1e-05  3e-15  7e-16\n",
      "Optimal solution found.\n",
      "(320, 1)\n",
      "     pcost       dcost       gap    pres   dres\n",
      " 0: -1.7592e+02 -6.4745e+01  1e+03  2e+01  2e-15\n",
      " 1: -2.5563e+01 -6.2213e+01  4e+01  1e-14  2e-15\n",
      " 2: -2.9945e+01 -3.2369e+01  2e+00  8e-15  8e-16\n",
      " 3: -3.1848e+01 -3.1958e+01  1e-01  9e-15  7e-16\n",
      " 4: -3.1938e+01 -3.1939e+01  1e-03  7e-15  7e-16\n",
      " 5: -3.1939e+01 -3.1939e+01  1e-05  1e-15  7e-16\n",
      "Optimal solution found.\n",
      "(320, 1)\n"
     ]
    },
    {
     "data": {
      "text/plain": [
       "0.52"
      ]
     },
     "execution_count": 13,
     "metadata": {},
     "output_type": "execute_result"
    }
   ],
   "source": [
    "# Dataset 2 Cross Validation with linear kernel\n",
    "n_2 = np.shape(X_2)[0]\n",
    "C_2_linear = 0.1\n",
    "acc_2_linear = cross_validation(X_2,y_2,n_2,linear_kernel,C_2_linear)\n",
    "acc_2_linear"
   ]
  },
  {
   "cell_type": "code",
   "execution_count": 14,
   "metadata": {},
   "outputs": [
    {
     "name": "stdout",
     "output_type": "stream",
     "text": [
      "     pcost       dcost       gap    pres   dres\n",
      " 0: -2.0189e+02 -8.0926e+00  2e+03  4e+01  3e-15\n",
      " 1: -4.8079e+00 -8.0606e+00  2e+01  4e-01  3e-15\n",
      " 2: -3.3777e+00 -5.7715e+00  2e+00  6e-16  4e-16\n",
      " 3: -3.9179e+00 -4.0203e+00  1e-01  3e-16  6e-16\n",
      " 4: -3.9981e+00 -3.9991e+00  1e-03  2e-16  5e-16\n",
      " 5: -3.9989e+00 -3.9989e+00  1e-05  2e-16  5e-16\n",
      " 6: -3.9989e+00 -3.9989e+00  1e-07  9e-16  5e-16\n",
      "Optimal solution found.\n",
      "(400, 1)\n"
     ]
    },
    {
     "data": {
      "text/plain": [
       "0.515"
      ]
     },
     "execution_count": 14,
     "metadata": {},
     "output_type": "execute_result"
    }
   ],
   "source": [
    "# Dataset 2 training with linear kernel\n",
    "model_2_linear = svm_train(X_2,y_2,linear_kernel,0.01)\n",
    "acc_2_linear = svm_accuracy(model_2_linear,X_2,y_2)\n",
    "acc_2_linear"
   ]
  },
  {
   "cell_type": "code",
   "execution_count": 15,
   "metadata": {},
   "outputs": [
    {
     "name": "stdout",
     "output_type": "stream",
     "text": [
      "     pcost       dcost       gap    pres   dres\n",
      " 0:  2.8532e+02 -2.8095e+03  3e+03  6e-15  3e-15\n",
      " 1:  3.1537e+01 -2.4839e+02  3e+02  1e-14  2e-15\n",
      " 2: -2.3474e+01 -9.2779e+01  7e+01  1e-15  1e-15\n",
      " 3: -3.5974e+01 -4.9797e+01  1e+01  2e-14  7e-16\n",
      " 4: -3.8950e+01 -4.1960e+01  3e+00  4e-16  5e-16\n",
      " 5: -3.9670e+01 -4.0368e+01  7e-01  1e-14  5e-16\n",
      " 6: -3.9894e+01 -3.9989e+01  9e-02  3e-15  6e-16\n",
      " 7: -3.9923e+01 -3.9936e+01  1e-02  2e-14  8e-16\n",
      " 8: -3.9928e+01 -3.9928e+01  2e-04  2e-14  8e-16\n",
      " 9: -3.9928e+01 -3.9928e+01  2e-06  2e-15  7e-16\n",
      "Optimal solution found.\n",
      "(54, 1)\n",
      "     pcost       dcost       gap    pres   dres\n",
      " 0:  2.8535e+02 -2.6441e+03  3e+03  7e-15  3e-15\n",
      " 1:  3.4716e+01 -2.8157e+02  3e+02  9e-16  2e-15\n",
      " 2: -2.0859e+01 -1.0628e+02  9e+01  2e-14  1e-15\n",
      " 3: -3.4448e+01 -5.2742e+01  2e+01  4e-15  7e-16\n",
      " 4: -3.7641e+01 -4.1323e+01  4e+00  7e-15  6e-16\n",
      " 5: -3.8488e+01 -3.9297e+01  8e-01  3e-15  7e-16\n",
      " 6: -3.8736e+01 -3.8907e+01  2e-01  9e-15  6e-16\n",
      " 7: -3.8779e+01 -3.8802e+01  2e-02  1e-14  7e-16\n",
      " 8: -3.8785e+01 -3.8788e+01  3e-03  1e-14  7e-16\n",
      " 9: -3.8786e+01 -3.8786e+01  4e-05  6e-15  5e-16\n",
      "Optimal solution found.\n",
      "(59, 1)\n",
      "     pcost       dcost       gap    pres   dres\n",
      " 0:  2.7299e+02 -2.8609e+03  3e+03  7e-14  3e-15\n",
      " 1:  2.3459e+01 -2.6589e+02  3e+02  1e-14  3e-15\n",
      " 2: -3.0437e+01 -1.3235e+02  1e+02  1e-14  1e-15\n",
      " 3: -4.9216e+01 -7.0208e+01  2e+01  8e-15  9e-16\n",
      " 4: -5.3893e+01 -5.7484e+01  4e+00  9e-15  8e-16\n",
      " 5: -5.4820e+01 -5.5621e+01  8e-01  3e-14  8e-16\n",
      " 6: -5.5095e+01 -5.5176e+01  8e-02  2e-14  9e-16\n",
      " 7: -5.5125e+01 -5.5129e+01  4e-03  9e-16  8e-16\n",
      " 8: -5.5126e+01 -5.5126e+01  3e-04  5e-15  9e-16\n",
      " 9: -5.5126e+01 -5.5126e+01  5e-06  8e-15  6e-16\n",
      "Optimal solution found.\n",
      "(55, 1)\n",
      "     pcost       dcost       gap    pres   dres\n",
      " 0:  2.7612e+02 -2.7727e+03  3e+03  2e-14  3e-15\n",
      " 1:  2.3317e+01 -2.5079e+02  3e+02  1e-14  3e-15\n",
      " 2: -2.9445e+01 -1.2852e+02  1e+02  6e-15  1e-15\n",
      " 3: -4.7814e+01 -6.7635e+01  2e+01  1e-14  8e-16\n",
      " 4: -5.2109e+01 -5.5998e+01  4e+00  1e-14  7e-16\n",
      " 5: -5.3098e+01 -5.3771e+01  7e-01  5e-15  8e-16\n",
      " 6: -5.3295e+01 -5.3485e+01  2e-01  4e-15  9e-16\n",
      " 7: -5.3349e+01 -5.3359e+01  1e-02  8e-15  6e-16\n",
      " 8: -5.3352e+01 -5.3353e+01  2e-04  2e-14  9e-16\n",
      " 9: -5.3352e+01 -5.3352e+01  3e-06  2e-14  9e-16\n",
      "Optimal solution found.\n",
      "(56, 1)\n",
      "     pcost       dcost       gap    pres   dres\n",
      " 0:  2.8480e+02 -2.8065e+03  3e+03  5e-14  3e-15\n",
      " 1:  2.9238e+01 -2.5265e+02  3e+02  4e-14  3e-15\n",
      " 2: -2.8574e+01 -9.6040e+01  7e+01  7e-15  1e-15\n",
      " 3: -4.1762e+01 -5.6535e+01  1e+01  6e-15  9e-16\n",
      " 4: -4.4949e+01 -4.8013e+01  3e+00  9e-15  7e-16\n",
      " 5: -4.5704e+01 -4.6685e+01  1e+00  5e-15  7e-16\n",
      " 6: -4.5992e+01 -4.6123e+01  1e-01  4e-15  7e-16\n",
      " 7: -4.6039e+01 -4.6044e+01  5e-03  5e-15  9e-16\n",
      " 8: -4.6041e+01 -4.6041e+01  1e-04  5e-15  8e-16\n",
      " 9: -4.6041e+01 -4.6041e+01  2e-06  1e-14  7e-16\n",
      "Optimal solution found.\n",
      "(52, 1)\n"
     ]
    },
    {
     "data": {
      "text/plain": [
       "0.98"
      ]
     },
     "execution_count": 15,
     "metadata": {},
     "output_type": "execute_result"
    }
   ],
   "source": [
    "# Dataset 1 Cross Validation with gaussian kernel \n",
    "C_1_gau = 7.5\n",
    "sigma_1_gau = 0.3\n",
    "acc_1_gau_cv = cross_validation(X_1,y_1,n_1,gaussian_kernel,C_1_gau,sigma_1_gau)\n",
    "acc_1_gau_cv"
   ]
  },
  {
   "cell_type": "code",
   "execution_count": 16,
   "metadata": {},
   "outputs": [
    {
     "name": "stdout",
     "output_type": "stream",
     "text": [
      "     pcost       dcost       gap    pres   dres\n",
      " 0:  3.1592e+02 -3.3393e+03  4e+03  3e-15  3e-15\n",
      " 1:  2.9448e+01 -2.8990e+02  3e+02  1e-14  3e-15\n",
      " 2: -2.7951e+01 -1.4666e+02  1e+02  9e-16  1e-15\n",
      " 3: -4.9486e+01 -7.3434e+01  2e+01  7e-15  9e-16\n",
      " 4: -5.5023e+01 -5.9299e+01  4e+00  2e-14  1e-15\n",
      " 5: -5.6071e+01 -5.7184e+01  1e+00  2e-14  1e-15\n",
      " 6: -5.6453e+01 -5.6553e+01  1e-01  4e-16  1e-15\n",
      " 7: -5.6489e+01 -5.6498e+01  9e-03  2e-14  1e-15\n",
      " 8: -5.6492e+01 -5.6493e+01  7e-04  3e-15  1e-15\n",
      " 9: -5.6493e+01 -5.6493e+01  1e-05  7e-15  1e-15\n",
      "Optimal solution found.\n",
      "(60, 1)\n"
     ]
    },
    {
     "data": {
      "text/plain": [
       "0.99"
      ]
     },
     "execution_count": 16,
     "metadata": {},
     "output_type": "execute_result"
    }
   ],
   "source": [
    "# Dataset 1 training with gaussian kernel\n",
    "model_1_gau = svm_train(X_1,y_1,gaussian_kernel,7.5,0.3)\n",
    "acc_1_gau = svm_accuracy(model_1_gau,X_1,y_1)\n",
    "acc_1_gau"
   ]
  },
  {
   "cell_type": "code",
   "execution_count": 17,
   "metadata": {
    "scrolled": true
   },
   "outputs": [
    {
     "name": "stdout",
     "output_type": "stream",
     "text": [
      "     pcost       dcost       gap    pres   dres\n",
      " 0:  3.9553e+02 -2.1616e+04  4e+04  3e-01  1e-14\n",
      " 1:  5.2506e+02 -2.9283e+03  4e+03  2e-02  1e-14\n",
      " 2: -4.1717e+01 -9.6436e+02  1e+03  3e-03  1e-14\n",
      " 3: -2.3754e+02 -6.8403e+02  5e+02  1e-03  1e-14\n",
      " 4: -3.4995e+02 -5.1582e+02  2e+02  4e-04  1e-14\n",
      " 5: -4.0015e+02 -4.6478e+02  7e+01  1e-04  1e-14\n",
      " 6: -4.2039e+02 -4.4133e+02  2e+01  1e-05  2e-14\n",
      " 7: -4.2903e+02 -4.3057e+02  2e+00  2e-07  2e-14\n",
      " 8: -4.2972e+02 -4.2979e+02  7e-02  7e-09  2e-14\n",
      " 9: -4.2975e+02 -4.2975e+02  1e-03  1e-10  2e-14\n",
      "10: -4.2975e+02 -4.2975e+02  1e-05  1e-12  2e-14\n",
      "Optimal solution found.\n",
      "(50, 1)\n",
      "     pcost       dcost       gap    pres   dres\n",
      " 0:  3.6787e+02 -2.1991e+04  4e+04  3e-01  1e-14\n",
      " 1:  5.1859e+02 -2.8933e+03  4e+03  1e-02  1e-14\n",
      " 2: -6.1942e+01 -9.1478e+02  9e+02  3e-03  1e-14\n",
      " 3: -2.9271e+02 -6.0728e+02  3e+02  8e-04  1e-14\n",
      " 4: -3.6887e+02 -5.2356e+02  2e+02  3e-04  2e-14\n",
      " 5: -4.0710e+02 -4.8211e+02  8e+01  1e-04  1e-14\n",
      " 6: -4.2936e+02 -4.5563e+02  3e+01  3e-05  2e-14\n",
      " 7: -4.4029e+02 -4.4339e+02  3e+00  2e-13  2e-14\n",
      " 8: -4.4166e+02 -4.4174e+02  8e-02  3e-14  2e-14\n",
      " 9: -4.4169e+02 -4.4169e+02  8e-04  1e-13  2e-14\n",
      "10: -4.4169e+02 -4.4169e+02  8e-06  9e-14  2e-14\n",
      "Optimal solution found.\n",
      "(52, 1)\n",
      "     pcost       dcost       gap    pres   dres\n",
      " 0:  4.2730e+02 -2.3125e+04  4e+04  4e-01  1e-14\n",
      " 1:  5.7483e+02 -3.1343e+03  4e+03  1e-02  1e-14\n",
      " 2: -5.3319e+01 -9.9504e+02  1e+03  2e-03  1e-14\n",
      " 3: -2.5438e+02 -7.2192e+02  5e+02  1e-03  1e-14\n",
      " 4: -3.6351e+02 -5.5319e+02  2e+02  3e-04  1e-14\n",
      " 5: -3.9975e+02 -5.1025e+02  1e+02  2e-04  1e-14\n",
      " 6: -4.2763e+02 -4.7474e+02  5e+01  5e-05  1e-14\n",
      " 7: -4.4208e+02 -4.5629e+02  1e+01  9e-06  1e-14\n",
      " 8: -4.4725e+02 -4.4964e+02  2e+00  8e-07  1e-14\n",
      " 9: -4.4832e+02 -4.4838e+02  5e-02  2e-08  2e-14\n",
      "10: -4.4835e+02 -4.4835e+02  8e-04  2e-10  2e-14\n",
      "11: -4.4835e+02 -4.4835e+02  8e-06  2e-12  2e-14\n",
      "Optimal solution found.\n",
      "(51, 1)\n",
      "     pcost       dcost       gap    pres   dres\n",
      " 0:  3.8384e+02 -2.3085e+04  4e+04  4e-01  1e-14\n",
      " 1:  5.5858e+02 -3.1759e+03  4e+03  1e-02  2e-14\n",
      " 2: -5.3776e+01 -9.7100e+02  1e+03  3e-03  1e-14\n",
      " 3: -2.6664e+02 -7.0649e+02  5e+02  1e-03  1e-14\n",
      " 4: -3.7192e+02 -5.5726e+02  2e+02  3e-04  1e-14\n",
      " 5: -4.2209e+02 -4.8614e+02  6e+01  8e-05  1e-14\n",
      " 6: -4.4251e+02 -4.6186e+02  2e+01  2e-05  2e-14\n",
      " 7: -4.5014e+02 -4.5279e+02  3e+00  1e-06  2e-14\n",
      " 8: -4.5130e+02 -4.5145e+02  2e-01  7e-08  2e-14\n",
      " 9: -4.5137e+02 -4.5137e+02  3e-03  9e-10  2e-14\n",
      "10: -4.5137e+02 -4.5137e+02  7e-05  2e-11  2e-14\n",
      "Optimal solution found.\n",
      "(54, 1)\n",
      "     pcost       dcost       gap    pres   dres\n",
      " 0:  3.9873e+02 -2.1726e+04  4e+04  3e-01  1e-14\n",
      " 1:  5.4681e+02 -2.8555e+03  4e+03  1e-02  1e-14\n",
      " 2: -5.1786e+01 -8.4313e+02  8e+02  2e-03  1e-14\n",
      " 3: -2.2441e+02 -6.5812e+02  4e+02  1e-03  1e-14\n",
      " 4: -3.4105e+02 -4.9576e+02  2e+02  3e-04  1e-14\n",
      " 5: -3.8064e+02 -4.5656e+02  8e+01  1e-04  1e-14\n",
      " 6: -4.0293e+02 -4.2962e+02  3e+01  3e-05  1e-14\n",
      " 7: -4.1246e+02 -4.1944e+02  7e+00  4e-14  2e-14\n",
      " 8: -4.1550e+02 -4.1577e+02  3e-01  9e-14  2e-14\n",
      " 9: -4.1562e+02 -4.1563e+02  5e-03  6e-14  2e-14\n",
      "10: -4.1563e+02 -4.1563e+02  5e-05  2e-14  2e-14\n",
      "Optimal solution found.\n",
      "(52, 1)\n"
     ]
    },
    {
     "data": {
      "text/plain": [
       "0.9675"
      ]
     },
     "execution_count": 17,
     "metadata": {},
     "output_type": "execute_result"
    }
   ],
   "source": [
    "# Dataset 2 Cross Validation with gaussian kernel \n",
    "C_2_gau = 13\n",
    "sigma_2_gau = 0.4\n",
    "acc_2_gau_cv = cross_validation(X_2,y_2,n_2,gaussian_kernel,C_2_gau,sigma_2_gau)\n",
    "acc_2_gau_cv"
   ]
  },
  {
   "cell_type": "code",
   "execution_count": 18,
   "metadata": {},
   "outputs": [
    {
     "name": "stdout",
     "output_type": "stream",
     "text": [
      "     pcost       dcost       gap    pres   dres\n",
      " 0:  3.7471e+02 -2.7732e+04  5e+04  3e-01  2e-14\n",
      " 1:  6.0176e+02 -3.8461e+03  5e+03  2e-02  2e-14\n",
      " 2: -5.9199e+01 -1.1869e+03  1e+03  3e-03  2e-14\n",
      " 3: -2.8141e+02 -8.7662e+02  6e+02  1e-03  2e-14\n",
      " 4: -4.1569e+02 -6.7803e+02  3e+02  5e-04  2e-14\n",
      " 5: -4.7372e+02 -5.9117e+02  1e+02  2e-04  2e-14\n",
      " 6: -5.0691e+02 -5.5076e+02  4e+01  4e-05  2e-14\n",
      " 7: -5.2302e+02 -5.3000e+02  7e+00  3e-06  2e-14\n",
      " 8: -5.2608e+02 -5.2635e+02  3e-01  3e-08  2e-14\n",
      " 9: -5.2621e+02 -5.2621e+02  5e-03  5e-10  2e-14\n",
      "10: -5.2621e+02 -5.2621e+02  5e-05  5e-12  2e-14\n",
      "Optimal solution found.\n",
      "(61, 1)\n"
     ]
    },
    {
     "data": {
      "text/plain": [
       "0.98"
      ]
     },
     "execution_count": 18,
     "metadata": {},
     "output_type": "execute_result"
    }
   ],
   "source": [
    "# Dataset 2 training with gaussian kernel\n",
    "model_2_gau = svm_train(X_2,y_2,gaussian_kernel,13,0.4)\n",
    "acc_2_gau = svm_accuracy(model_2_gau,X_2,y_2)\n",
    "acc_2_gau"
   ]
  },
  {
   "cell_type": "code",
   "execution_count": 19,
   "metadata": {
    "collapsed": true
   },
   "outputs": [],
   "source": [
    "# function of compute decision boundary for linear kernel\n",
    "def svm_boundary_linear(w,b,upper,lower):\n",
    "    x1_range = np.r_[upper:lower:0.01]\n",
    "    x2_range = (-w[0] * x1_range - b) / w[1]\n",
    "    \n",
    "    return x1_range,x2_range"
   ]
  },
  {
   "cell_type": "code",
   "execution_count": 21,
   "metadata": {},
   "outputs": [
    {
     "data": {
      "image/png": "[encoded data removed]",
      "text/plain": [
       "<matplotlib.figure.Figure at 0x299ddf27518>"
      ]
     },
     "metadata": {},
     "output_type": "display_data"
    }
   ],
   "source": [
    "# plot dataset 1 with linear kernels\n",
    "w_1_l = model_1_linear[1][0]\n",
    "b_1_l = model_1_linear[2]\n",
    "x1_1_l,x2_1_l = svm_boundary_linear(w_1_l,b_1_l,-0.5,0.5)\n",
    "X_1_l_sv = model_1_linear[3]\n",
    "\n",
    "positive_ind_1 = np.where(y_1==1)[0]\n",
    "negative_ind_1 = np.where(y_1==-1)[0]\n",
    "positive_X1 = X_1[positive_ind_1,:]\n",
    "negative_X1 = X_1[negative_ind_1,:]\n",
    "\n",
    "# with support vectors\n",
    "plt.figure()\n",
    "# plot dataset\n",
    "plt.scatter(positive_X1[:,0],positive_X1[:,1],c=\"red\")\n",
    "plt.scatter(negative_X1[:,0],negative_X1[:,1],c=\"green\")\n",
    "# plot boundary\n",
    "plt.plot(x1_1_l,x2_1_l,c=\"blue\")\n",
    "# plot support vectors\n",
    "plt.scatter(X_1_l_sv[:,0],X_1_l_sv[:,1],c=\"purple\",marker='.')\n",
    "plt.show()"
   ]
  },
  {
   "cell_type": "code",
   "execution_count": 22,
   "metadata": {},
   "outputs": [
    {
     "data": {
      "image/png": "[encoded data removed]",
      "text/plain": [
       "<matplotlib.figure.Figure at 0x299ddf5b9e8>"
      ]
     },
     "metadata": {},
     "output_type": "display_data"
    }
   ],
   "source": [
    "# plot dataset 2 with linear kernels\n",
    "w_2_l = model_2_linear[1][0]\n",
    "b_2_l = model_2_linear[2]\n",
    "x1_2_l,x2_2_l = svm_boundary_linear(w_2_l,b_2_l,-0.5,0.5)\n",
    "X_2_l_sv = model_2_linear[3]\n",
    "\n",
    "positive_ind_2 = np.where(y_2==1)[0]\n",
    "negative_ind_2 = np.where(y_2==-1)[0]\n",
    "positive_X2 = X_2[positive_ind_2,:]\n",
    "negative_X2 = X_2[negative_ind_2,:]\n",
    "\n",
    "# with support vectors\n",
    "plt.figure()\n",
    "# plot dataset\n",
    "plt.scatter(positive_X2[:,0],positive_X2[:,1],c=\"red\")\n",
    "plt.scatter(negative_X2[:,0],negative_X2[:,1],c=\"green\")\n",
    "# plot boundary\n",
    "plt.plot(x1_2_l,x2_2_l,c=\"blue\")\n",
    "# plot support vectors\n",
    "plt.scatter(X_2_l_sv[:,0],X_2_l_sv[:,1],c=\"purple\",marker='.')\n",
    "plt.show()"
   ]
  },
  {
   "cell_type": "code",
   "execution_count": 26,
   "metadata": {
    "collapsed": true
   },
   "outputs": [],
   "source": [
    "# function of computing decision boundary for gaussian kernel\n",
    "def svm_boundary_gaussian(model,upper,lower,interval):\n",
    "    x1_range = np.r_[upper:lower:interval]\n",
    "    x2_range = np.r_[upper:lower:interval]\n",
    "    x1_size = np.shape(x1_range)[0]\n",
    "    x2_size = np.shape(x2_range)[0]\n",
    "    y = np.zeros((x2_size,x1_size))\n",
    "    \n",
    "    for i in range(x1_size):\n",
    "        for j in range(x2_size):\n",
    "            x1 = x1_range[i]\n",
    "            x2 = x2_range[j]\n",
    "            x_test = np.array([[x1,x2]])\n",
    "            p = svm_predict(model,x_test)\n",
    "            y[j,i] = p\n",
    "    \n",
    "    return y"
   ]
  },
  {
   "cell_type": "code",
   "execution_count": 28,
   "metadata": {},
   "outputs": [
    {
     "data": {
      "image/png": "[encoded data removed]",
      "text/plain": [
       "<matplotlib.figure.Figure at 0x299ddf50710>"
      ]
     },
     "metadata": {},
     "output_type": "display_data"
    }
   ],
   "source": [
    "# plot dataset 1 with gaussian kernels\n",
    "X_boundary_1 = np.r_[-2:2:0.05]\n",
    "y_boundary_1 = svm_boundary_gaussian(model_1_gau,-2,2,0.05)\n",
    "X_1_g_sv = model_1_gau[3]\n",
    "\n",
    "positive_ind_1 = np.where(y_1==1)[0]\n",
    "negative_ind_1 = np.where(y_1==-1)[0]\n",
    "positive_X1 = X_1[positive_ind_1,:]\n",
    "negative_X1 = X_1[negative_ind_1,:]\n",
    "\n",
    "# with support vectors\n",
    "plt.figure()\n",
    "# plot dataset\n",
    "plt.scatter(positive_X1[:,0],positive_X1[:,1],c=\"red\")\n",
    "plt.scatter(negative_X1[:,0],negative_X1[:,1],c=\"green\")\n",
    "# plot boundary\n",
    "plt.contour(X_boundary_1,X_boundary_1,y_boundary_1,[0],colors=\"blue\")\n",
    "# plot support vectors\n",
    "plt.scatter(X_1_g_sv[:,0],X_1_g_sv[:,1],c=\"purple\",marker='.')\n",
    "plt.show()"
   ]
  },
  {
   "cell_type": "code",
   "execution_count": 29,
   "metadata": {},
   "outputs": [
    {
     "data": {
      "image/png": "[encoded data removed]",
      "text/plain": [
       "<matplotlib.figure.Figure at 0x299e11223c8>"
      ]
     },
     "metadata": {},
     "output_type": "display_data"
    }
   ],
   "source": [
    "# plot dataset 2 with gaussian kernels\n",
    "X_boundary_2 = np.r_[-1:1:0.02]\n",
    "y_boundary_2 = svm_boundary_gaussian(model_2_gau,-1,1,0.02)\n",
    "X_2_g_sv = model_2_gau[3]\n",
    "\n",
    "positive_ind_2 = np.where(y_2==1)[0]\n",
    "negative_ind_2 = np.where(y_2==-1)[0]\n",
    "positive_X2 = X_2[positive_ind_2,:]\n",
    "negative_X2 = X_2[negative_ind_2,:]\n",
    "\n",
    "# with support vectors\n",
    "plt.figure()\n",
    "# plot dataset\n",
    "plt.scatter(positive_X2[:,0],positive_X2[:,1],c=\"red\")\n",
    "plt.scatter(negative_X2[:,0],negative_X2[:,1],c=\"green\")\n",
    "# plot boundary\n",
    "plt.contour(X_boundary_2,X_boundary_2,y_boundary_2,[0],colors=\"blue\")\n",
    "# plot support vectors\n",
    "plt.scatter(X_2_g_sv[:,0],X_2_g_sv[:,1],c=\"purple\",marker='.')\n",
    "plt.show()"
   ]
  }
 ],
 "metadata": {
  "kernelspec": {
   "display_name": "Python 3",
   "language": "python",
   "name": "python3"
  },
  "language_info": {
   "codemirror_mode": {
    "name": "ipython",
    "version": 3
   },
   "file_extension": ".py",
   "mimetype": "text/x-python",
   "name": "python",
   "nbconvert_exporter": "python",
   "pygments_lexer": "ipython3",
   "version": "3.6.5"
  }
 },
 "nbformat": 4,
 "nbformat_minor": 2
}
