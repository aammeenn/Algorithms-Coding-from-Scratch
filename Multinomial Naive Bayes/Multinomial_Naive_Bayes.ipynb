{
 "cells": [
  {
   "cell_type": "markdown",
   "metadata": {},
   "source": [
    "### Multinomial Naive Bayes"
   ]
  },
  {
   "cell_type": "code",
   "execution_count": 223,
   "metadata": {
    "collapsed": true
   },
   "outputs": [],
   "source": [
    "import scipy.io\n",
    "import numpy as np\n",
    "from scipy.sparse import csc_matrix"
   ]
  },
  {
   "cell_type": "code",
   "execution_count": 35,
   "metadata": {
    "collapsed": true
   },
   "outputs": [],
   "source": [
    "mdict = scipy.io.loadmat('20newsgroup.mat')\n",
    "X_train = mdict['X_train']\n",
    "X_test = mdict['X_test']\n",
    "y_train = mdict['y_train'].T\n",
    "y_test = mdict['y_test'].T\n",
    "word_list = mdict['word_list']"
   ]
  },
  {
   "cell_type": "code",
   "execution_count": 36,
   "metadata": {
    "collapsed": true
   },
   "outputs": [],
   "source": [
    "# function of generating dummy response variables\n",
    "def dummy_response(y,nclass):\n",
    "    # create dummy var matrix\n",
    "    z = np.zeros((np.shape(y)[0],nclass))\n",
    "    \n",
    "    # change corresponding values\n",
    "    for i in range(np.shape(y)[0]):\n",
    "        z[i,int(y[i])] = 1\n",
    "    \n",
    "    return z "
   ]
  },
  {
   "cell_type": "code",
   "execution_count": 110,
   "metadata": {
    "collapsed": true
   },
   "outputs": [],
   "source": [
    "# function of calculating p(x/y)\n",
    "def bayes_prob_x_y(x_train,y_train,n_class,alpha):\n",
    "    # number of variables (x)\n",
    "    n_var = np.shape(x_train)[1]\n",
    "    # convert y_train to dummy response variables\n",
    "    dummy_train = dummy_response(y_train,n_class)\n",
    "    \n",
    "    # initiate count matrix\n",
    "    prob = np.array([]).reshape(0,n_var)\n",
    "    \n",
    "    # for each class of k\n",
    "    for k in range(n_class):\n",
    "        # obtain count vector of class k\n",
    "        count_k_mat = x_train.multiply(csc_matrix(dummy_train[:,k:k+1]))\n",
    "        count_k = count_k_mat.sum(axis=0)\n",
    "        \n",
    "        # calculate prob vector\n",
    "        sum_count_k = count_k.sum(axis=1)[0,0] + alpha * n_var\n",
    "        count_alpha = count_k + np.ones((1,n_var))*alpha\n",
    "        prob_k = count_alpha / sum_count_k\n",
    "        prob_k = prob_k\n",
    "        \n",
    "        # stack prob_k\n",
    "        prob = np.vstack((prob,prob_k))\n",
    "    \n",
    "    return prob"
   ]
  },
  {
   "cell_type": "code",
   "execution_count": 38,
   "metadata": {
    "collapsed": true
   },
   "outputs": [],
   "source": [
    "# function of calculating p(y=k)\n",
    "def bayes_prob_y(y_train,n_class):\n",
    "    # number of observations\n",
    "    n_obs = np.shape(y_train)[0]\n",
    "    \n",
    "    # initiate count vector\n",
    "    count_y = np.zeros((n_class,1))\n",
    "    \n",
    "    # for each observations\n",
    "    for i in range(n_obs):\n",
    "        class_num = int(y_train[i])\n",
    "        count_y[class_num] += 1\n",
    "    \n",
    "    # calculate p(y=k)\n",
    "    prob_y = count_y / n_obs\n",
    "    \n",
    "    return prob_y"
   ]
  },
  {
   "cell_type": "code",
   "execution_count": 116,
   "metadata": {
    "collapsed": true
   },
   "outputs": [],
   "source": [
    "# function of training Bayes\n",
    "def train_bayes_multinomial(x_train,y_train,n_class,alpha):\n",
    "    prob_y = bayes_prob_y(y_train,n_class)\n",
    "    prob_x_y = bayes_prob_x_y(x_train,y_train,n_class,alpha)\n",
    "    prob_model = [prob_y,np.asarray(prob_x_y),n_class]\n",
    "    \n",
    "    return prob_model"
   ]
  },
  {
   "cell_type": "code",
   "execution_count": 255,
   "metadata": {
    "collapsed": true
   },
   "outputs": [],
   "source": [
    "# function of predictint probs of unlabelled x\n",
    "# model_prob is the list of [prob_y,prob_x_y,n_class]\n",
    "# x_test is a single vector of observation\n",
    "def bayes_predict_prob(x_test,model_prob):\n",
    "    x_test = x_test.toarray()\n",
    "    # get trained probs\n",
    "    prob_y = model_prob[0]\n",
    "    prob_x_y = model_prob[1]\n",
    "    n_class = model_prob[2]\n",
    "    \n",
    "    # calculate probs of classes\n",
    "    log_prob_y_x = np.log(prob_y) + ((np.log(prob_x_y)*x_test).sum(axis=1)).reshape(n_class,1)\n",
    "\n",
    "    return log_prob_y_x"
   ]
  },
  {
   "cell_type": "code",
   "execution_count": 233,
   "metadata": {
    "collapsed": true
   },
   "outputs": [],
   "source": [
    "# function of predict class by probs\n",
    "def bayes_predict_class(pre_prob):\n",
    "    # get max prob\n",
    "    pred_class = np.argmax(pre_prob)\n",
    "    \n",
    "    return pred_class"
   ]
  },
  {
   "cell_type": "code",
   "execution_count": 262,
   "metadata": {
    "collapsed": true
   },
   "outputs": [],
   "source": [
    "# function of calculating test accuracy\n",
    "def accuracy(x_test,y_test,model_prob):\n",
    "    # initiate number of correct prediction\n",
    "    correct_count = 0\n",
    "    # number of test observation\n",
    "    n_obs = np.shape(x_test)[0]\n",
    "    \n",
    "    # process percent\n",
    "    percent = 1\n",
    "    \n",
    "    # for each observation in test set\n",
    "    for i in range(n_obs):\n",
    "        pred_y_prob = bayes_predict_prob(x_test[i:i+1,:],model_prob)\n",
    "        pred_y = bayes_predict_class(pred_y_prob)\n",
    "        if y_test[i]==pred_y:\n",
    "            correct_count += 1\n",
    "        \n",
    "        if (i/n_obs)>=(percent/10):\n",
    "            print(str(percent*10)+'%......')\n",
    "            percent += 1\n",
    "    \n",
    "    # calculate accuracy\n",
    "    acc = correct_count / n_obs\n",
    "    \n",
    "    return acc"
   ]
  },
  {
   "cell_type": "code",
   "execution_count": 185,
   "metadata": {
    "collapsed": true
   },
   "outputs": [],
   "source": [
    "n_class = np.shape(word_list)[1]\n",
    "model_train = train_bayes_multinomial(X_train,y_train,n_class,1)"
   ]
  },
  {
   "cell_type": "code",
   "execution_count": 263,
   "metadata": {},
   "outputs": [
    {
     "name": "stdout",
     "output_type": "stream",
     "text": [
      "10%......\n",
      "20%......\n",
      "30%......\n",
      "40%......\n",
      "50%......\n",
      "60%......\n",
      "70%......\n",
      "80%......\n",
      "90%......\n"
     ]
    },
    {
     "data": {
      "text/plain": [
       "0.7728359001593202"
      ]
     },
     "execution_count": 263,
     "metadata": {},
     "output_type": "execute_result"
    }
   ],
   "source": [
    "acc = accuracy(X_test,y_test,model_train)\n",
    "acc"
   ]
  },
  {
   "cell_type": "code",
   "execution_count": 286,
   "metadata": {
    "collapsed": true
   },
   "outputs": [],
   "source": [
    "train_nword = X_train.sum(axis=1)\n",
    "test_nword = X_test.sum(axis=1)\n",
    "train_div = 1/train_nword\n",
    "test_div = 1/test_nword\n",
    "X_train_t = X_train.multiply(csc_matrix(train_div))\n",
    "X_test_t = X_test.multiply(csc_matrix(test_div))"
   ]
  },
  {
   "cell_type": "code",
   "execution_count": 308,
   "metadata": {},
   "outputs": [
    {
     "data": {
      "text/plain": [
       "2.9676470090718004e-07"
      ]
     },
     "execution_count": 308,
     "metadata": {},
     "output_type": "execute_result"
    }
   ],
   "source": [
    "alpha_t = 1/train_nword.sum(axis=0)[0,0]"
   ]
  },
  {
   "cell_type": "code",
   "execution_count": 309,
   "metadata": {
    "collapsed": true
   },
   "outputs": [],
   "source": [
    "model_train_t = train_bayes_multinomial(X_train_t,y_train,n_class,alpha_t)"
   ]
  },
  {
   "cell_type": "code",
   "execution_count": 310,
   "metadata": {},
   "outputs": [
    {
     "name": "stdout",
     "output_type": "stream",
     "text": [
      "10%......\n",
      "20%......\n",
      "30%......\n",
      "40%......\n",
      "50%......\n",
      "60%......\n",
      "70%......\n",
      "80%......\n",
      "90%......\n"
     ]
    },
    {
     "data": {
      "text/plain": [
       "0.8062931492299522"
      ]
     },
     "execution_count": 310,
     "metadata": {},
     "output_type": "execute_result"
    }
   ],
   "source": [
    "acc_t = accuracy(X_test_t,y_test,model_train_t)\n",
    "acc_t"
   ]
  }
 ],
 "metadata": {
  "kernelspec": {
   "display_name": "Python 3",
   "language": "python",
   "name": "python3"
  },
  "language_info": {
   "codemirror_mode": {
    "name": "ipython",
    "version": 3
   },
   "file_extension": ".py",
   "mimetype": "text/x-python",
   "name": "python",
   "nbconvert_exporter": "python",
   "pygments_lexer": "ipython3",
   "version": "3.6.5"
  }
 },
 "nbformat": 4,
 "nbformat_minor": 2
}
